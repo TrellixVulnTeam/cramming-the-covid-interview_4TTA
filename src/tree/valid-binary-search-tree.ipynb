{
 "cells": [
  {
   "cell_type": "code",
   "execution_count": 10,
   "metadata": {
    "collapsed": true
   },
   "outputs": [],
   "source": [
    "class TreeNode:\n",
    "    def __init__(self, val=0, left=None, right=None):\n",
    "        self.val = val\n",
    "        self.left = left\n",
    "        self.right = right\n",
    "\n",
    "    def __str__(self):\n",
    "        out = '\\nTreeNode val: ' + str(self.val)\n",
    "        if self.right is not None:\n",
    "            out += ' right: ' + str(self.right.val)\n",
    "        if self.left is not None:\n",
    "            out += ' left: ' + str(self.left.val)\n",
    "        return out"
   ]
  },
  {
   "cell_type": "code",
   "execution_count": 34,
   "outputs": [],
   "source": [
    "class Solution():\n",
    "    def isValidBST(self, root: TreeNode) -> bool:\n",
    "        min_val = -2**31\n",
    "        max_val = 2**31 -1\n",
    "\n",
    "        return check(root, min_val, max_val)\n",
    "\n",
    "def check(node, min_val, max_val):\n",
    "    if node is None:\n",
    "        return True\n",
    "\n",
    "    if node.val < min_val or node.val > max_val:\n",
    "        return False\n",
    "\n",
    "    return check(node.left, min_val,  node.val - 1) and check(node.right, node.val+1, max_val)\n",
    "\n",
    "\n",
    "\n",
    "\n",
    "\n"
   ],
   "metadata": {
    "collapsed": false,
    "pycharm": {
     "name": "#%%\n"
    }
   }
  },
  {
   "cell_type": "code",
   "execution_count": 37,
   "outputs": [],
   "source": [
    "tree = TreeNode(2, TreeNode(1), TreeNode(3))\n",
    "# tree = TreeNode(5,\n",
    "#                 TreeNode(4),\n",
    "#                 TreeNode(6,\n",
    "#                          TreeNode(7),\n",
    "#                          TreeNode(8)\n",
    "#                          )\n",
    "#                 )"
   ],
   "metadata": {
    "collapsed": false,
    "pycharm": {
     "name": "#%%\n"
    }
   }
  },
  {
   "cell_type": "code",
   "execution_count": 38,
   "outputs": [
    {
     "data": {
      "text/plain": "True"
     },
     "execution_count": 38,
     "metadata": {},
     "output_type": "execute_result"
    }
   ],
   "source": [
    "sol = Solution()\n",
    "sol.isValidBST(tree)"
   ],
   "metadata": {
    "collapsed": false,
    "pycharm": {
     "name": "#%%\n"
    }
   }
  },
  {
   "cell_type": "code",
   "execution_count": 31,
   "outputs": [
    {
     "name": "stdout",
     "output_type": "stream",
     "text": [
      "-2147483648\n"
     ]
    }
   ],
   "source": [
    "\n"
   ],
   "metadata": {
    "collapsed": false,
    "pycharm": {
     "name": "#%%\n"
    }
   }
  }
 ],
 "metadata": {
  "kernelspec": {
   "display_name": "Python 3",
   "language": "python",
   "name": "python3"
  },
  "language_info": {
   "codemirror_mode": {
    "name": "ipython",
    "version": 2
   },
   "file_extension": ".py",
   "mimetype": "text/x-python",
   "name": "python",
   "nbconvert_exporter": "python",
   "pygments_lexer": "ipython2",
   "version": "2.7.6"
  }
 },
 "nbformat": 4,
 "nbformat_minor": 0
}