{
 "cells": [
  {
   "cell_type": "code",
   "execution_count": 61,
   "metadata": {
    "collapsed": true
   },
   "outputs": [],
   "source": [
    "class Solution:\n",
    "    def findAndReplacePattern(self, words, pattern):\n",
    "        \"\"\"\n",
    "        :param words: list of str\n",
    "        :param pattern: str\n",
    "        :return: list of str\n",
    "        \"\"\"\n",
    "\n",
    "        out = []\n",
    "\n",
    "        pchar1, pchar2 = None, None\n",
    "\n",
    "        # Identify pattern\n",
    "        for char in pattern:\n",
    "            if pchar1 is None:\n",
    "                pchar1 = char\n",
    "            if char != pchar1:\n",
    "                pchar2 = char\n",
    "        \n",
    "\n",
    "        # Check pattern\n",
    "\n",
    "        for word in words:\n",
    "            char1, char2 = None, None\n",
    "            match = False\n",
    "\n",
    "            for i in range(len(word)):\n",
    "                if char1 is None:\n",
    "                    char1 = word[i]\n",
    "                if word[i] != char1:\n",
    "                    char2 = word[i]\n",
    "                    \n",
    "                print(char1, char2)\n",
    "\n",
    "                if pattern[i] is pchar1 and word[i] is not char1:\n",
    "                    break\n",
    "                elif pattern[i] is pchar2 and word[i] is not char2:\n",
    "                    break\n",
    "                else:\n",
    "                    match = True\n",
    "\n",
    "                # print(pattern[i] == pchar1 and word[i] == char1)\n",
    "                    \n",
    "\n",
    "\n",
    "            # if pchar2 is None and char2:\n",
    "            #     continue\n",
    "            #\n",
    "            # if pchar2 and char2 is None:\n",
    "            #     continue\n",
    "            \n",
    "            print('match', match)\n",
    "\n",
    "            if match:\n",
    "                out.append(word)\n",
    "\n",
    "            # if pchar1 is None:\n",
    "            #     pchar1 = char\n",
    "            # if char != pchar1:\n",
    "            #     pchar2 = char\n",
    "            # if True:\n",
    "            #     out.append(word)\n",
    "        print('out:', out)\n",
    "        return out"
   ]
  },
  {
   "cell_type": "code",
   "execution_count": 62,
   "outputs": [
    {
     "name": "stdout",
     "output_type": "stream",
     "text": [
      "a None\n",
      "a None\n",
      "match True\n",
      "b None\n",
      "b None\n",
      "match True\n",
      "d None\n",
      "d None\n",
      "match True\n",
      "out: ['aa', 'bb', 'dd']\n"
     ]
    }
   ],
   "source": [
    "sol = Solution()\n",
    "res = sol.findAndReplacePattern([\"aa\", \"bb\", \"dd\"], \"cc\")\n",
    "\n",
    "assert res == ['aa', 'bb', 'dd']"
   ],
   "metadata": {
    "collapsed": false,
    "pycharm": {
     "name": "#%%\n"
    }
   }
  },
  {
   "cell_type": "code",
   "execution_count": 63,
   "outputs": [
    {
     "name": "stdout",
     "output_type": "stream",
     "text": [
      "a None\n",
      "a b\n",
      "match True\n",
      "b None\n",
      "b None\n",
      "match True\n",
      "out: ['ab', 'bb']\n"
     ]
    },
    {
     "ename": "AssertionError",
     "evalue": "",
     "output_type": "error",
     "traceback": [
      "\u001B[0;31m---------------------------------------------------------------------------\u001B[0m",
      "\u001B[0;31mAssertionError\u001B[0m                            Traceback (most recent call last)",
      "\u001B[0;32m<ipython-input-63-69838aa1d394>\u001B[0m in \u001B[0;36m<module>\u001B[0;34m\u001B[0m\n\u001B[1;32m      2\u001B[0m \u001B[0mres\u001B[0m \u001B[0;34m=\u001B[0m \u001B[0msol\u001B[0m\u001B[0;34m.\u001B[0m\u001B[0mfindAndReplacePattern\u001B[0m\u001B[0;34m(\u001B[0m\u001B[0;34m[\u001B[0m\u001B[0;34m\"ab\"\u001B[0m\u001B[0;34m,\u001B[0m \u001B[0;34m\"bb\"\u001B[0m\u001B[0;34m]\u001B[0m\u001B[0;34m,\u001B[0m \u001B[0;34m\"fc\"\u001B[0m\u001B[0;34m)\u001B[0m\u001B[0;34m\u001B[0m\u001B[0;34m\u001B[0m\u001B[0m\n\u001B[1;32m      3\u001B[0m \u001B[0;34m\u001B[0m\u001B[0m\n\u001B[0;32m----> 4\u001B[0;31m \u001B[0;32massert\u001B[0m \u001B[0mres\u001B[0m \u001B[0;34m==\u001B[0m \u001B[0;34m[\u001B[0m\u001B[0;34m'ab'\u001B[0m\u001B[0;34m]\u001B[0m\u001B[0;34m\u001B[0m\u001B[0;34m\u001B[0m\u001B[0m\n\u001B[0m",
      "\u001B[0;31mAssertionError\u001B[0m: "
     ]
    }
   ],
   "source": [
    "sol = Solution()\n",
    "res = sol.findAndReplacePattern([\"ab\", \"bb\"], \"fc\")\n",
    "\n",
    "assert res == ['ab']"
   ],
   "metadata": {
    "collapsed": false,
    "pycharm": {
     "name": "#%%\n"
    }
   }
  },
  {
   "cell_type": "code",
   "execution_count": 48,
   "outputs": [],
   "source": [],
   "metadata": {
    "collapsed": false,
    "pycharm": {
     "name": "#%%\n"
    }
   }
  },
  {
   "cell_type": "code",
   "execution_count": null,
   "outputs": [],
   "source": [],
   "metadata": {
    "collapsed": false,
    "pycharm": {
     "name": "#%%\n"
    }
   }
  }
 ],
 "metadata": {
  "kernelspec": {
   "display_name": "Python 3",
   "language": "python",
   "name": "python3"
  },
  "language_info": {
   "codemirror_mode": {
    "name": "ipython",
    "version": 2
   },
   "file_extension": ".py",
   "mimetype": "text/x-python",
   "name": "python",
   "nbconvert_exporter": "python",
   "pygments_lexer": "ipython2",
   "version": "2.7.6"
  }
 },
 "nbformat": 4,
 "nbformat_minor": 0
}