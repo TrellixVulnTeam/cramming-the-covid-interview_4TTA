{
 "cells": [
  {
   "cell_type": "code",
   "execution_count": 17,
   "metadata": {
    "collapsed": true
   },
   "outputs": [],
   "source": [
    "# 1.1) Is Unique (p90)\n",
    "# Hints: 44, 117, 132\n",
    "\n",
    "def is_unique(string):\n",
    "    for i in range(len(string) - 1):\n",
    "        if string[i] in string[i+1:]:\n",
    "            return False\n",
    "    return True\n",
    "\n",
    "\n",
    "assert is_unique('abc') == True\n",
    "assert is_unique('How many?') == True\n",
    "assert is_unique('aba') == False\n",
    "assert is_unique('aa') == False\n",
    "assert is_unique('Hello World') == False"
   ]
  },
  {
   "cell_type": "code",
   "execution_count": null,
   "outputs": [],
   "source": [
    "def is_unique_hash(string):\n",
    "    chars = {}\n",
    "\n",
    "    for char in string:\n",
    "        if char in chars.keys():\n",
    "            return False\n",
    "        chars[char] = True\n",
    "    return True\n",
    "\n",
    "assert is_unique_hash('abc') == True\n",
    "assert is_unique_hash('How many?') == True\n",
    "assert is_unique_hash('aba') == False\n",
    "assert is_unique_hash('Hello World') == False"
   ],
   "metadata": {
    "collapsed": false,
    "pycharm": {
     "name": "#%%\n"
    }
   }
  },
  {
   "cell_type": "code",
   "execution_count": 10,
   "outputs": [],
   "source": [
    "# 1.2) Check Permutation (p90)\n",
    "# Hints: 1, 84, 122, 131\n",
    "\n",
    "def check_permutation(s1, s2):\n",
    "    return s1 != s2 and sorted(s1) == sorted(s2)\n",
    "\n",
    "assert check_permutation('abc', 'bca') == True\n",
    "assert check_permutation('abc', 'abc') == False\n",
    "assert check_permutation('abc', 'def') == False\n",
    "assert check_permutation('abc1', 'def') == False"
   ],
   "metadata": {
    "collapsed": false,
    "pycharm": {
     "name": "#%%\n"
    }
   }
  },
  {
   "cell_type": "code",
   "execution_count": 23,
   "outputs": [],
   "source": [
    "# 1.3) Urlify (p90)\n",
    "def urlify(url):\n",
    "    url = url.strip()\n",
    "    out = ''\n",
    "    for char in url:\n",
    "        out += char if char != ' ' else '%20'\n",
    "    return out\n",
    "\n",
    "\n",
    "assert urlify('Mr John Smith    ') == 'Mr%20John%20Smith'"
   ],
   "metadata": {
    "collapsed": false,
    "pycharm": {
     "name": "#%%\n"
    }
   }
  },
  {
   "cell_type": "code",
   "execution_count": 23,
   "outputs": [],
   "source": [],
   "metadata": {
    "collapsed": false,
    "pycharm": {
     "name": "#%%\n"
    }
   }
  },
  {
   "cell_type": "code",
   "execution_count": null,
   "outputs": [],
   "source": [],
   "metadata": {
    "collapsed": false,
    "pycharm": {
     "name": "#%%\n"
    }
   }
  }
 ],
 "metadata": {
  "kernelspec": {
   "display_name": "Python 3",
   "language": "python",
   "name": "python3"
  },
  "language_info": {
   "codemirror_mode": {
    "name": "ipython",
    "version": 2
   },
   "file_extension": ".py",
   "mimetype": "text/x-python",
   "name": "python",
   "nbconvert_exporter": "python",
   "pygments_lexer": "ipython2",
   "version": "2.7.6"
  }
 },
 "nbformat": 4,
 "nbformat_minor": 0
}