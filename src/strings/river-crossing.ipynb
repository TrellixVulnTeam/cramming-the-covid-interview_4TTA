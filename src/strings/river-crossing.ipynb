{
 "cells": [
  {
   "cell_type": "code",
   "execution_count": 64,
   "metadata": {
    "collapsed": true
   },
   "outputs": [],
   "source": [
    "def cross_check(ri) :\n",
    "    speed = 1\n",
    "    i = 1\n",
    "    print(ri[i:])\n",
    "    while i < len(ri)-1:\n",
    "        new_speed = peek(speed, ri[i:])\n",
    "\n",
    "        print('new_speed: {}'.format(new_speed))\n",
    "\n",
    "        if new_speed == 0:\n",
    "            return False\n",
    "\n",
    "        speed = new_speed\n",
    "\n",
    "        i += new_speed + 1\n",
    "\n",
    "    return True\n",
    "\n",
    "\n",
    "\n",
    "def peek(speed, ri):\n",
    "    print('peek\\nspeed: {}, ri: {}'.format(speed, ri))\n",
    "    try:\n",
    "        if speed > 1 and ri[speed-1] == 'o':\n",
    "            print('slow')\n",
    "            return speed - 1\n",
    "        if ri[speed] == 'o':\n",
    "            print('steady')\n",
    "            return speed\n",
    "        if ri[speed+1] == 'o':\n",
    "            print('fast')\n",
    "            return speed + 1\n",
    "    except IndexError:\n",
    "        print('error')\n",
    "    return 0"
   ]
  },
  {
   "cell_type": "code",
   "execution_count": 65,
   "outputs": [
    {
     "name": "stdout",
     "output_type": "stream",
     "text": [
      "~~o~~~o~~~o~~o\n",
      "peek\n",
      "speed: 1, ri: ~~o~~~o~~~o~~o\n",
      "fast\n",
      "new_speed: 2\n",
      "peek\n",
      "speed: 2, ri: ~~~o~~~o~~o\n",
      "fast\n",
      "new_speed: 3\n",
      "peek\n",
      "speed: 3, ri: ~~~o~~o\n",
      "steady\n",
      "new_speed: 3\n",
      "peek\n",
      "speed: 3, ri: ~~o\n",
      "slow\n",
      "new_speed: 2\n"
     ]
    },
    {
     "data": {
      "text/plain": "True"
     },
     "execution_count": 65,
     "metadata": {},
     "output_type": "execute_result"
    }
   ],
   "source": [
    "# river = 'o~o~~o~~~o~~~~o'\n",
    "# river = 'o~o~o~o~o'\n",
    "river = 'o~~o~~~o~~~o~~o'\n",
    "\n",
    "cross_check(river)\n",
    "\n"
   ],
   "metadata": {
    "collapsed": false,
    "pycharm": {
     "name": "#%%\n"
    }
   }
  },
  {
   "cell_type": "code",
   "execution_count": 65,
   "outputs": [],
   "source": [],
   "metadata": {
    "collapsed": false,
    "pycharm": {
     "name": "#%%\n"
    }
   }
  }
 ],
 "metadata": {
  "kernelspec": {
   "display_name": "Python 3",
   "language": "python",
   "name": "python3"
  },
  "language_info": {
   "codemirror_mode": {
    "name": "ipython",
    "version": 2
   },
   "file_extension": ".py",
   "mimetype": "text/x-python",
   "name": "python",
   "nbconvert_exporter": "python",
   "pygments_lexer": "ipython2",
   "version": "2.7.6"
  }
 },
 "nbformat": 4,
 "nbformat_minor": 0
}