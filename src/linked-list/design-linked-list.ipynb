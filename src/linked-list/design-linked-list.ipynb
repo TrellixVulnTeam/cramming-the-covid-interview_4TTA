{
 "cells": [
  {
   "cell_type": "code",
   "execution_count": 4,
   "metadata": {
    "collapsed": true
   },
   "outputs": [
    {
     "name": "stdout",
     "output_type": "stream",
     "text": [
      "0\n",
      "addAtHead source: [1]\n",
      "addAtTail source: [1, 2]\n",
      "addAtIndex source: [1, 2]\n",
      "deleteAtIndex source: [1]\n"
     ]
    }
   ],
   "source": [
    "class MyLinkedList:\n",
    "\n",
    "    def __init__(self):\n",
    "        \"\"\"\n",
    "        Initialize your data structure here.\n",
    "        \"\"\"\n",
    "        self.source = []\n",
    "\n",
    "\n",
    "    def get(self, index: int) -> int:\n",
    "        \"\"\"\n",
    "        Get the value of the index-th node in the linked list. If the index is invalid, return -1.\n",
    "        \"\"\"\n",
    "        print(index)\n",
    "        if index >= len(self.source):\n",
    "            return -1\n",
    "        else:\n",
    "            return self.source[index]\n",
    "\n",
    "    def addAtHead(self, val: int) -> None:\n",
    "        \"\"\"\n",
    "        Add a node of value val before the first element of the linked list. After the insertion, the new node will be the first node of the linked list.\n",
    "        \"\"\"\n",
    "        self.source.insert(0, val)\n",
    "        print('addAtHead', self)\n",
    "\n",
    "\n",
    "    def addAtTail(self, val: int) -> None:\n",
    "        \"\"\"\n",
    "        Append a node of value val to the last element of the linked list.\n",
    "        \"\"\"\n",
    "        self.source.append(val)\n",
    "        print('addAtTail', self)\n",
    "\n",
    "\n",
    "    def addAtIndex(self, index: int, val: int) -> None:\n",
    "        \"\"\"\n",
    "        Add a node of value val before the index-th node in the linked list. If index equals to the length of linked list, the node will be appended to the end of linked list. If index is greater than the length, the node will not be inserted.\n",
    "        \"\"\"\n",
    "        if  index <= len(self.source):\n",
    "            self.source.insert(index, val)\n",
    "        print('addAtIndex', self)\n",
    "\n",
    "    def deleteAtIndex(self, index: int) -> None:\n",
    "        \"\"\"\n",
    "        Delete the index-th node in the linked list, if the index is valid.\n",
    "        \"\"\"\n",
    "        if index < len(self.source):\n",
    "            self.source.pop(index)\n",
    "        print('deleteAtIndex', self)\n",
    "\n",
    "    def __str__(self):\n",
    "        return 'source: '+str(self.source)\n",
    "\n",
    "# Your MyLinkedList object will be instantiated and called as such:\n",
    "obj = MyLinkedList()\n",
    "param_1 = obj.get(0)\n",
    "obj.addAtHead(1)\n",
    "obj.addAtTail(2)\n",
    "obj.addAtIndex(3,3)\n",
    "obj.deleteAtIndex(1)"
   ]
  },
  {
   "cell_type": "code",
   "execution_count": 5,
   "outputs": [
    {
     "name": "stdout",
     "output_type": "stream",
     "text": [
      "source: [1]\n"
     ]
    }
   ],
   "source": [
    "print(obj)"
   ],
   "metadata": {
    "collapsed": false,
    "pycharm": {
     "name": "#%%\n"
    }
   }
  },
  {
   "cell_type": "code",
   "execution_count": null,
   "outputs": [],
   "source": [],
   "metadata": {
    "collapsed": false,
    "pycharm": {
     "name": "#%%\n"
    }
   }
  }
 ],
 "metadata": {
  "kernelspec": {
   "display_name": "Python 3",
   "language": "python",
   "name": "python3"
  },
  "language_info": {
   "codemirror_mode": {
    "name": "ipython",
    "version": 2
   },
   "file_extension": ".py",
   "mimetype": "text/x-python",
   "name": "python",
   "nbconvert_exporter": "python",
   "pygments_lexer": "ipython2",
   "version": "2.7.6"
  }
 },
 "nbformat": 4,
 "nbformat_minor": 0
}