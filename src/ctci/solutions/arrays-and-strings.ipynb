{
 "cells": [
  {
   "cell_type": "code",
   "execution_count": 6,
   "metadata": {
    "collapsed": true
   },
   "outputs": [],
   "source": [
    "def is_unique_chars(string):\n",
    "    if len(string) > 128: return False\n",
    "\n",
    "    chars = {}\n",
    "\n",
    "    for i, c in enumerate(string):\n",
    "        if c in chars.keys():\n",
    "            return False\n",
    "        else:\n",
    "            chars[c] = True\n",
    "\n",
    "    return True\n",
    "\n",
    "assert is_unique_chars('abc') == True\n",
    "assert is_unique_chars('aba') == False"
   ]
  },
  {
   "cell_type": "code",
   "execution_count": null,
   "outputs": [],
   "source": [
    "def permutation(s, t):\n",
    "    if len(s) != len(t):\n",
    "        return False\n",
    "\n",
    "    "
   ],
   "metadata": {
    "collapsed": false,
    "pycharm": {
     "name": "#%%\n"
    }
   }
  }
 ],
 "metadata": {
  "kernelspec": {
   "display_name": "Python 3",
   "language": "python",
   "name": "python3"
  },
  "language_info": {
   "codemirror_mode": {
    "name": "ipython",
    "version": 2
   },
   "file_extension": ".py",
   "mimetype": "text/x-python",
   "name": "python",
   "nbconvert_exporter": "python",
   "pygments_lexer": "ipython2",
   "version": "2.7.6"
  }
 },
 "nbformat": 4,
 "nbformat_minor": 0
}