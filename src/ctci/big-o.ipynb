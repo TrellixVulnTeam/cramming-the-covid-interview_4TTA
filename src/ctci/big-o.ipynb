{
 "cells": [
  {
   "cell_type": "code",
   "execution_count": 19,
   "metadata": {
    "collapsed": true
   },
   "outputs": [
    {
     "data": {
      "text/plain": "6"
     },
     "execution_count": 19,
     "metadata": {},
     "output_type": "execute_result"
    }
   ],
   "source": [
    "# p40\n",
    "def osum(n):\n",
    "    if n <= 0:\n",
    "        return 0\n",
    "    return n + osum(n-1)\n",
    "\n",
    "osum(3)"
   ]
  },
  {
   "cell_type": "code",
   "execution_count": 20,
   "outputs": [
    {
     "data": {
      "text/plain": "100"
     },
     "execution_count": 20,
     "metadata": {},
     "output_type": "execute_result"
    }
   ],
   "source": [
    "# p41\n",
    "def pair_sum_sequence(n):\n",
    "    psum = 0\n",
    "    for i in range(n):\n",
    "        psum += pair_sum(i, i + 1)\n",
    "    return psum\n",
    "\n",
    "def pair_sum(a, b):\n",
    "    return a + b\n",
    "\n",
    "pair_sum_sequence(10)"
   ],
   "metadata": {
    "collapsed": false,
    "pycharm": {
     "name": "#%%\n"
    }
   }
  },
  {
   "cell_type": "code",
   "execution_count": 21,
   "outputs": [
    {
     "data": {
      "text/plain": "32"
     },
     "execution_count": 21,
     "metadata": {},
     "output_type": "execute_result"
    }
   ],
   "source": [
    "# p44\n",
    "def f(n):\n",
    "    if n <= 1:\n",
    "        return 1\n",
    "    return f(n-1) + f(n-1)\n",
    "\n",
    "f(6)"
   ],
   "metadata": {
    "collapsed": false,
    "pycharm": {
     "name": "#%%\n"
    }
   }
  },
  {
   "cell_type": "code",
   "execution_count": 22,
   "outputs": [
    {
     "name": "stdout",
     "output_type": "stream",
     "text": [
      "15 ,  120\n"
     ]
    }
   ],
   "source": [
    "# p46: Example 1\n",
    "def foo(arr):\n",
    "    \"\"\"\n",
    "    Runtime O(N)\n",
    "    :param arr:\n",
    "    :return:\n",
    "    \"\"\"\n",
    "    fsum = 0\n",
    "    product = 1\n",
    "    for i in arr:\n",
    "        fsum += i\n",
    "    for i in arr:\n",
    "        product *= i\n",
    "    print(fsum, ', ', product)\n",
    "\n",
    "foo([4,5,6])"
   ],
   "metadata": {
    "collapsed": false,
    "pycharm": {
     "name": "#%%\n"
    }
   }
  },
  {
   "cell_type": "code",
   "execution_count": 23,
   "outputs": [
    {
     "name": "stdout",
     "output_type": "stream",
     "text": [
      "5 ,  5\n",
      "5 ,  6\n",
      "5 ,  7\n",
      "6 ,  5\n",
      "6 ,  6\n",
      "6 ,  7\n",
      "7 ,  5\n",
      "7 ,  6\n",
      "7 ,  7\n"
     ]
    }
   ],
   "source": [
    "# p46: Example 2\n",
    "def print_pairs(arr):\n",
    "    \"\"\"\n",
    "    Runtime O(N^2)\n",
    "    :param arr:\n",
    "    :return:\n",
    "    \"\"\"\n",
    "    for i in range(len(arr)):\n",
    "        for j in range(len(arr)):\n",
    "            print(arr[i], ', ', arr[j])\n",
    "\n",
    "print_pairs([5,6,7])"
   ],
   "metadata": {
    "collapsed": false,
    "pycharm": {
     "name": "#%%\n"
    }
   }
  },
  {
   "cell_type": "code",
   "execution_count": 24,
   "outputs": [
    {
     "name": "stdout",
     "output_type": "stream",
     "text": [
      "10 ,  11\n",
      "10 ,  12\n",
      "11 ,  11\n",
      "11 ,  12\n",
      "12 ,  11\n",
      "12 ,  12\n",
      "None\n"
     ]
    }
   ],
   "source": [
    "# p46: Example 3\n",
    "def print_unordered_pairs(arr):\n",
    "    \"\"\"\n",
    "    Runtime O(N^2)\n",
    "    :param arr:\n",
    "    :return:\n",
    "    \"\"\"\n",
    "    for i in range(len(arr)):\n",
    "        for j in range(1, len(arr)):\n",
    "            print(arr[i], ', ', arr[j])\n",
    "\n",
    "print(print_unordered_pairs([i for i in range(10, 13)]))"
   ],
   "metadata": {
    "collapsed": false,
    "pycharm": {
     "name": "#%%\n"
    }
   }
  },
  {
   "cell_type": "code",
   "execution_count": 25,
   "outputs": [
    {
     "name": "stdout",
     "output_type": "stream",
     "text": [
      "5 9\n",
      "5 10\n",
      "5 11\n",
      "6 9\n",
      "6 10\n",
      "6 11\n",
      "7 9\n",
      "7 10\n",
      "7 11\n"
     ]
    }
   ],
   "source": [
    "# p47: Example 4\n",
    "def print_unordered_ab(arrA, arrB):\n",
    "    \"\"\"\n",
    "    Runtime O(a,b)\n",
    "    :param arrA:\n",
    "    :param arrB:\n",
    "    :return:\n",
    "    \"\"\"\n",
    "    for i in range(len(arrA)):\n",
    "        for j in range(len(arrB)):\n",
    "            print(arrA[i], arrB[j])\n",
    "\n",
    "print_unordered_ab([i for i in range(5,8)], [j for j in range(9,12)])"
   ],
   "metadata": {
    "collapsed": false,
    "pycharm": {
     "name": "#%%\n"
    }
   }
  },
  {
   "cell_type": "code",
   "execution_count": 26,
   "outputs": [],
   "source": [
    "# p48: Example 5\n",
    "def print_uo_ijk(arrA, arrB):\n",
    "    \"\"\"\n",
    "    Runtime O(ab)\n",
    "    :param arrA:\n",
    "    :param arrB:\n",
    "    :return:\n",
    "    \"\"\"\n",
    "    for i in range(len(arrA)):\n",
    "        for j in range(len(arrB)):\n",
    "            for k in range(10000):\n",
    "                print(arrA[i], ', ', arrB)"
   ],
   "metadata": {
    "collapsed": false,
    "pycharm": {
     "name": "#%%\n"
    }
   }
  },
  {
   "cell_type": "code",
   "execution_count": 27,
   "outputs": [
    {
     "name": "stdout",
     "output_type": "stream",
     "text": [
      "[0, 1, 2, 3, 4, 5]\n",
      "[5, 4, 3, 2, 1, 0]\n"
     ]
    }
   ],
   "source": [
    "# p48: Example 6\n",
    "def reverse_array(arr):\n",
    "    \"\"\"\n",
    "    O(N)\n",
    "    :param arr:\n",
    "    :return:\n",
    "    \"\"\"\n",
    "    for i in range(int(len(arr) / 2)):\n",
    "        other = len(arr) - i - 1\n",
    "        temp = arr[i]\n",
    "        arr[i] = arr[other]\n",
    "        arr[other] = temp\n",
    "\n",
    "parr = [i for i in range(6)]\n",
    "print(parr)\n",
    "reverse_array(parr)\n",
    "print(parr)"
   ],
   "metadata": {
    "collapsed": false,
    "pycharm": {
     "name": "#%%\n"
    }
   }
  },
  {
   "cell_type": "code",
   "execution_count": 28,
   "outputs": [
    {
     "name": "stdout",
     "output_type": "stream",
     "text": [
      "node sum 7\n"
     ]
    }
   ],
   "source": [
    "# p49: Example 9\n",
    "\n",
    "def sum_balanced_binary_search_tree(node):\n",
    "    \"\"\"\n",
    "    Runtime O(N)\n",
    "    :param node:\n",
    "    :return:\n",
    "    \"\"\"\n",
    "    if not node:\n",
    "        return 0\n",
    "    return sum_balanced_binary_search_tree(node.left) + node.value + sum_balanced_binary_search_tree(node.right)\n",
    "\n",
    "class BSTNode:\n",
    "    def __init__(self, value, left=None, right=None):\n",
    "        self.value = value\n",
    "        self.left = left\n",
    "        self.right = right\n",
    "\n",
    "    def sum(self):\n",
    "        return sum_balanced_binary_search_tree(self)\n",
    "\n",
    "\n",
    "node = BSTNode(1, BSTNode(3), BSTNode(3))\n",
    "\n",
    "print('node sum', node.sum())"
   ],
   "metadata": {
    "collapsed": false,
    "pycharm": {
     "name": "#%%\n"
    }
   }
  },
  {
   "cell_type": "code",
   "execution_count": 29,
   "outputs": [
    {
     "name": "stdout",
     "output_type": "stream",
     "text": [
      "2 5 1\n",
      "2 6 0\n",
      "2 7 1\n",
      "2 8 0\n",
      "2 9 1\n",
      "3 9 0\n",
      "2 10 0\n",
      "2 11 1\n",
      "3 11 2\n",
      "[True, False, True, False, False, False, True]\n"
     ]
    }
   ],
   "source": [
    "# p50: Example 10\n",
    "def is_prime(n):\n",
    "    \"\"\"\n",
    "    Runtime O(sqrt(N))\n",
    "    :param n:\n",
    "    :return:\n",
    "    \"\"\"\n",
    "    x = 2\n",
    "\n",
    "    while x * x <= n:\n",
    "        print(x, n, n % x)\n",
    "        if n % x == 0:\n",
    "            return False\n",
    "        x += 1\n",
    "\n",
    "    return True\n",
    "\n",
    "print([is_prime(i) for i in range(5,12)])"
   ],
   "metadata": {
    "collapsed": false,
    "pycharm": {
     "name": "#%%\n"
    }
   }
  },
  {
   "cell_type": "code",
   "execution_count": 30,
   "outputs": [
    {
     "name": "stdout",
     "output_type": "stream",
     "text": [
      "[1, 1, 2, 6, 24, 120, 720, 5040, 40320, 362880]\n"
     ]
    }
   ],
   "source": [
    "# p51: Example 11\n",
    "def factorial(n):\n",
    "    \"\"\"\n",
    "    Runtime O(n)\n",
    "    :param n:\n",
    "    :return:\n",
    "    \"\"\"\n",
    "    if n < 0:\n",
    "        return -1\n",
    "    elif n == 0:\n",
    "        return 1\n",
    "    else:\n",
    "        return n * factorial(n-1)\n",
    "\n",
    "print([factorial(i) for i in range(0,10)])"
   ],
   "metadata": {
    "collapsed": false,
    "pycharm": {
     "name": "#%%\n"
    }
   }
  },
  {
   "cell_type": "code",
   "execution_count": 31,
   "outputs": [
    {
     "name": "stdout",
     "output_type": "stream",
     "text": [
      "ABC\n",
      "ACB\n",
      "BAC\n",
      "BCA\n",
      "CAB\n",
      "CBA\n",
      "None\n"
     ]
    }
   ],
   "source": [
    "# p51: Example 12\n",
    "def perm(string):\n",
    "    \"\"\"\n",
    "    Runtime O(n^2 * n!)\n",
    "    :param string:\n",
    "    :return:\n",
    "    \"\"\"\n",
    "    permutation(string, '')\n",
    "\n",
    "def permutation(string, prefix):\n",
    "    if len(string) == 0:\n",
    "        print(prefix)\n",
    "    else:\n",
    "        for i in range(len(string)):\n",
    "            rem = string[0:int(i)] + string[i+1:]\n",
    "            permutation(rem, prefix + string[i])\n",
    "\n",
    "print(perm('ABC'))"
   ],
   "metadata": {
    "collapsed": false,
    "pycharm": {
     "name": "#%%\n"
    }
   }
  },
  {
   "cell_type": "code",
   "execution_count": 32,
   "outputs": [],
   "source": [
    "# p52: Example 13\n",
    "def fib(n):\n",
    "    \"\"\"\n",
    "    Runtime O(2^N)\n",
    "    :param n:\n",
    "    :return:\n",
    "    \"\"\"\n",
    "    if n <= 0:\n",
    "        return 0\n",
    "    elif n == 1:\n",
    "        return 1\n",
    "    else:\n",
    "        return fib(n - 1) + fib(n - 2)"
   ],
   "metadata": {
    "collapsed": false,
    "pycharm": {
     "name": "#%%\n"
    }
   }
  },
  {
   "cell_type": "code",
   "execution_count": 58,
   "outputs": [
    {
     "name": "stdout",
     "output_type": "stream",
     "text": [
      "0 : 0\n",
      "1 : 1\n",
      "2 : 1\n",
      "3 : 2\n",
      "4 : 3\n",
      "5 : 5\n",
      "6 : 8\n",
      "7 : 13\n",
      "8 : 21\n",
      "9 : 34\n"
     ]
    }
   ],
   "source": [
    "# p53: Example 14\n",
    "def all_fib(n):\n",
    "    \"\"\"\n",
    "    Runtime O(2^n)\n",
    "    :param n:\n",
    "    :return:\n",
    "    \"\"\"\n",
    "    for i in range(n):\n",
    "        print(i, \":\", fib(i))\n",
    "\n",
    "all_fib(10)"
   ],
   "metadata": {
    "collapsed": false,
    "pycharm": {
     "name": "#%%\n"
    }
   }
  },
  {
   "cell_type": "code",
   "execution_count": 64,
   "outputs": [
    {
     "name": "stdout",
     "output_type": "stream",
     "text": [
      "43466557686937456435688527675040625802564660517371780402481729089536555417949051890403879840079255169295922593080322634775209689623239873322471161642996440906533187938298969649928516003704476137795166849228875\n"
     ]
    }
   ],
   "source": [
    "import functools\n",
    "\n",
    "@functools.lru_cache(None)\n",
    "def cache_fib(n):\n",
    "    if n <= 0:\n",
    "        return 0\n",
    "    elif n == 1 or n == 2:\n",
    "        return 1\n",
    "    else:\n",
    "        return cache_fib(n - 1) + cache_fib(n - 2)\n",
    "\n",
    "print(cache_fib(1000))"
   ],
   "metadata": {
    "collapsed": false,
    "pycharm": {
     "name": "#%%\n"
    }
   }
  },
  {
   "cell_type": "code",
   "execution_count": null,
   "outputs": [],
   "source": [],
   "metadata": {
    "collapsed": false,
    "pycharm": {
     "name": "#%%\n"
    }
   }
  }
 ],
 "metadata": {
  "kernelspec": {
   "display_name": "Python 3",
   "language": "python",
   "name": "python3"
  },
  "language_info": {
   "codemirror_mode": {
    "name": "ipython",
    "version": 2
   },
   "file_extension": ".py",
   "mimetype": "text/x-python",
   "name": "python",
   "nbconvert_exporter": "python",
   "pygments_lexer": "ipython2",
   "version": "2.7.6"
  }
 },
 "nbformat": 4,
 "nbformat_minor": 0
}