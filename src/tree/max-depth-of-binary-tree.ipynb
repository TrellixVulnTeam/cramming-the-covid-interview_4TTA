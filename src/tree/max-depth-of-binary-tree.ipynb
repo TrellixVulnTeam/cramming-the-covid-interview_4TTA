{
 "cells": [
  {
   "cell_type": "code",
   "execution_count": 49,
   "metadata": {
    "collapsed": true
   },
   "outputs": [],
   "source": [
    "\n",
    "class TreeNode:\n",
    "    def __init__(self, val=0, left=None, right=None):\n",
    "        self.val = val\n",
    "        self.left = left\n",
    "        self.right = right\n",
    "\n",
    "    def __str__(self):\n",
    "        return '\\nval: {}, left: {}, right: {}'.format(self.val, self.left, self.right)\n",
    "# def tree_builder(arr: list) -> TreeNode:\n",
    "\n",
    "class Depth:\n",
    "    def __init__(self):\n",
    "        self.maximum = 0\n",
    "\n",
    "    def __str__(self):\n",
    "        return 'Depth: maximum: {}'.format(\n",
    "            self.maximum\n",
    "        )\n",
    "\n",
    "def check(node: TreeNode, depth: Depth, current: int):\n",
    "    current += 1\n",
    "\n",
    "    if current > depth.maximum:\n",
    "        depth.maximum = current\n",
    "\n",
    "    if node.right is not None:\n",
    "        check(node.right, depth, current)\n",
    "    if node.left is not None:\n",
    "        check(node.left, depth, current)\n",
    "\n",
    "class Solution(TreeNode):\n",
    "    def maxDepth(self, root: TreeNode) -> int:\n",
    "        depth = Depth()\n",
    "        if root:\n",
    "            check(root, depth, 0)\n",
    "\n",
    "        print(depth)\n",
    "        return depth.maximum"
   ]
  },
  {
   "cell_type": "code",
   "execution_count": 50,
   "outputs": [],
   "source": [
    "tree = TreeNode(3,\n",
    "                TreeNode(9),\n",
    "                TreeNode(20,\n",
    "                         TreeNode(15),\n",
    "                         TreeNode(7))\n",
    "                )"
   ],
   "metadata": {
    "collapsed": false,
    "pycharm": {
     "name": "#%%\n"
    }
   }
  },
  {
   "cell_type": "code",
   "execution_count": 51,
   "outputs": [
    {
     "name": "stdout",
     "output_type": "stream",
     "text": [
      "Depth: maximum: 1\n",
      "Depth: maximum: 2\n",
      "Depth: maximum: 3\n",
      "Depth: maximum: 3\n",
      "Depth: maximum: 3\n",
      "Depth: maximum: 3\n",
      "3\n"
     ]
    }
   ],
   "source": [
    "sol = Solution()\n",
    "print(sol.maxDepth(tree))"
   ],
   "metadata": {
    "collapsed": false,
    "pycharm": {
     "name": "#%%\n"
    }
   }
  },
  {
   "cell_type": "code",
   "execution_count": 48,
   "outputs": [],
   "source": [],
   "metadata": {
    "collapsed": false,
    "pycharm": {
     "name": "#%%\n"
    }
   }
  },
  {
   "cell_type": "code",
   "execution_count": null,
   "outputs": [],
   "source": [],
   "metadata": {
    "collapsed": false,
    "pycharm": {
     "name": "#%%\n"
    }
   }
  }
 ],
 "metadata": {
  "kernelspec": {
   "display_name": "Python 3",
   "language": "python",
   "name": "python3"
  },
  "language_info": {
   "codemirror_mode": {
    "name": "ipython",
    "version": 2
   },
   "file_extension": ".py",
   "mimetype": "text/x-python",
   "name": "python",
   "nbconvert_exporter": "python",
   "pygments_lexer": "ipython2",
   "version": "2.7.6"
  }
 },
 "nbformat": 4,
 "nbformat_minor": 0
}