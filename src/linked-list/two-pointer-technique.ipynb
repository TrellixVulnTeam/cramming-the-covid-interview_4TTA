{
 "cells": [
  {
   "cell_type": "code",
   "execution_count": 1,
   "metadata": {
    "collapsed": true
   },
   "outputs": [],
   "source": [
    "# Definition for singly-linked list.\n",
    "class ListNode:\n",
    "    def __init__(self, x, next = None):\n",
    "        self.val = x\n",
    "        self.next = next\n",
    "\n",
    "    def __str__(self):\n",
    "        return '\\nListNode [val: {}]'.format(self.val)\n",
    "\n",
    "class Solution(ListNode):\n",
    "    def __init__(self, node: ListNode, x):\n",
    "        super().__init__(x)\n",
    "        self.head = node\n",
    "\n",
    "    def hasCycle(self, node: ListNode) -> bool:\n",
    "        self.head = node\n",
    "        return False\n",
    "\n",
    "    def __str__(self):\n",
    "        return '\\nSolution:' + str(self.head)"
   ]
  },
  {
   "cell_type": "code",
   "execution_count": 2,
   "outputs": [],
   "source": [
    "# print(Solution(ListNode()))\n",
    "# head = ListNode(None)\n",
    "# curr = head\n",
    "# for i in [3,2,0,-4]:\n",
    "#     curr.next = ListNode(i)\n",
    "#     curr = curr.next\n",
    "#\n",
    "# print(str(head))\n",
    "#\n",
    "# sol = Solution(head.next)"
   ],
   "metadata": {
    "collapsed": false,
    "pycharm": {
     "name": "#%%\n"
    }
   }
  },
  {
   "cell_type": "code",
   "execution_count": 3,
   "outputs": [
    {
     "name": "stdout",
     "output_type": "stream",
     "text": [
      "\n",
      "ListNode [val: 3]\n",
      "\n",
      "ListNode [val: 3]\n",
      "\n",
      "ListNode [val: 2]\n",
      "\n",
      "ListNode [val: 0]\n",
      "\n",
      "ListNode [val: -4]\n",
      "print [<__main__.ListNode object at 0x10c2e00a0>, <__main__.ListNode object at 0x10c2e0130>, <__main__.ListNode object at 0x10c2e01c0>, <__main__.ListNode object at 0x10c2e0220>]\n"
     ]
    }
   ],
   "source": [
    "def new_sol(li):\n",
    "    head = ListNode(None)\n",
    "    curr = head\n",
    "    for i in li:\n",
    "        curr.next = ListNode(i)\n",
    "        curr = curr.next\n",
    "\n",
    "    return head.next\n",
    "\n",
    "head = new_sol([3,2,0,-4])\n",
    "curr = head\n",
    "\n",
    "print(head)\n",
    "\n",
    "ln = []\n",
    "\n",
    "while curr is not None :\n",
    "    ln.append(curr)\n",
    "    print(curr)\n",
    "    curr = curr.next\n",
    "\n",
    "print('print', ln)"
   ],
   "metadata": {
    "collapsed": false,
    "pycharm": {
     "name": "#%%\n"
    }
   }
  },
  {
   "cell_type": "code",
   "execution_count": 4,
   "outputs": [],
   "source": [
    "ln[2].next = ln[0]"
   ],
   "metadata": {
    "collapsed": false,
    "pycharm": {
     "name": "#%%\n"
    }
   }
  },
  {
   "cell_type": "code",
   "execution_count": 5,
   "outputs": [
    {
     "name": "stdout",
     "output_type": "stream",
     "text": [
      "test\n",
      "\n",
      "ListNode [val: 3]\n",
      "2\n"
     ]
    }
   ],
   "source": [
    "print('test')\n",
    "print(ln[0])\n",
    "print('2')"
   ],
   "metadata": {
    "collapsed": false,
    "pycharm": {
     "name": "#%%\n"
    }
   }
  },
  {
   "cell_type": "code",
   "execution_count": null,
   "outputs": [],
   "source": [],
   "metadata": {
    "collapsed": false,
    "pycharm": {
     "name": "#%%\n"
    }
   }
  }
 ],
 "metadata": {
  "kernelspec": {
   "display_name": "Python 3",
   "language": "python",
   "name": "python3"
  },
  "language_info": {
   "codemirror_mode": {
    "name": "ipython",
    "version": 2
   },
   "file_extension": ".py",
   "mimetype": "text/x-python",
   "name": "python",
   "nbconvert_exporter": "python",
   "pygments_lexer": "ipython2",
   "version": "2.7.6"
  }
 },
 "nbformat": 4,
 "nbformat_minor": 0
}