{
 "cells": [
  {
   "cell_type": "code",
   "execution_count": 13,
   "metadata": {
    "collapsed": true
   },
   "outputs": [],
   "source": [
    "class Node:\n",
    "    def __init__(self, val=0, next=None):\n",
    "        self.val = val\n",
    "        self.next = next\n",
    "\n",
    "    def __str__(self):\n",
    "        out = '\\nTreeNode val: ' + str(self.val)\n",
    "        out += '\\n         next: ' + str(self.next)\n",
    "\n",
    "        return out"
   ]
  },
  {
   "cell_type": "code",
   "execution_count": 14,
   "outputs": [],
   "source": [
    "def merge_sort(node: Node):\n",
    "    if node is None or node.next is None:\n",
    "        return node\n",
    "\n",
    "    mid = get_mid_split(node)\n",
    "    left = sort_list(head)\n",
    "    right = sort_list(mid)\n",
    "\n",
    "    return merge(left, right)\n",
    "\n",
    "\n",
    "def get_mid_split(head: Node) -> Node:\n",
    "    if head is None:\n",
    "        return head\n",
    "\n",
    "    slow = head\n",
    "    fast = head\n",
    "\n",
    "    while fast.next is not None and fast.next.next is not None:\n",
    "        slow = slow.next\n",
    "        fast = fast.next.next\n",
    "\n",
    "    return slow\n",
    "\n",
    "def sort_list(node: Node) -> Node:\n",
    "    return node\n",
    "\n",
    "def merge(left: Node, right: Node) -> Node:\n",
    "    return left"
   ],
   "metadata": {
    "collapsed": false,
    "pycharm": {
     "name": "#%%\n"
    }
   }
  },
  {
   "cell_type": "code",
   "execution_count": null,
   "outputs": [],
   "source": [
    "head = Node(5, Node(4, Node(3, Node(2, Node(1)))))\n",
    "\n",
    "merge_sort(head)"
   ],
   "metadata": {
    "collapsed": false,
    "pycharm": {
     "name": "#%%\n"
    }
   }
  },
  {
   "cell_type": "code",
   "execution_count": 18,
   "outputs": [
    {
     "name": "stdout",
     "output_type": "stream",
     "text": [
      "\n",
      "TreeNode val: 5\n",
      "         next: \n",
      "TreeNode val: 4\n",
      "         next: \n",
      "TreeNode val: 3\n",
      "         next: \n",
      "TreeNode val: 2\n",
      "         next: \n",
      "TreeNode val: 1\n",
      "         next: None\n",
      "\n",
      "TreeNode val: 4\n",
      "         next: \n",
      "TreeNode val: 3\n",
      "         next: \n",
      "TreeNode val: 2\n",
      "         next: \n",
      "TreeNode val: 1\n",
      "         next: None\n",
      "\n",
      "TreeNode val: 3\n",
      "         next: \n",
      "TreeNode val: 2\n",
      "         next: \n",
      "TreeNode val: 1\n",
      "         next: None\n",
      "\n",
      "TreeNode val: 2\n",
      "         next: \n",
      "TreeNode val: 1\n",
      "         next: None\n",
      "\n",
      "TreeNode val: 1\n",
      "         next: None\n"
     ]
    }
   ],
   "source": [
    "curr = head\n",
    "li = []\n",
    "while curr is not None:\n",
    "    print(curr)\n",
    "    li.append(curr)\n",
    "    curr = curr.next"
   ],
   "metadata": {
    "collapsed": false,
    "pycharm": {
     "name": "#%%\n"
    }
   }
  },
  {
   "cell_type": "code",
   "execution_count": 19,
   "outputs": [
    {
     "name": "stdout",
     "output_type": "stream",
     "text": [
      "[<__main__.Node object at 0x10f173070>, <__main__.Node object at 0x10f173190>, <__main__.Node object at 0x10f173cd0>, <__main__.Node object at 0x10f173520>, <__main__.Node object at 0x10f173850>]\n"
     ]
    }
   ],
   "source": [
    "\n"
   ],
   "metadata": {
    "collapsed": false,
    "pycharm": {
     "name": "#%%\n"
    }
   }
  }
 ],
 "metadata": {
  "kernelspec": {
   "display_name": "Python 3",
   "language": "python",
   "name": "python3"
  },
  "language_info": {
   "codemirror_mode": {
    "name": "ipython",
    "version": 2
   },
   "file_extension": ".py",
   "mimetype": "text/x-python",
   "name": "python",
   "nbconvert_exporter": "python",
   "pygments_lexer": "ipython2",
   "version": "2.7.6"
  }
 },
 "nbformat": 4,
 "nbformat_minor": 0
}