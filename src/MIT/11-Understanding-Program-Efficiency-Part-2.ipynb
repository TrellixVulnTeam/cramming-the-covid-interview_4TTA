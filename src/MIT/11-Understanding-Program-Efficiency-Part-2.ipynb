{
 "cells": [
  {
   "cell_type": "code",
   "execution_count": 1,
   "metadata": {
    "collapsed": true
   },
   "outputs": [],
   "source": [
    "# 11. Understanding Program Efficiency, Part 2\n",
    "#  https://www.youtube.com/watch?v=7lQXYl_L28w&t=1208s\n",
    "#  BISECTION SEARCH IMPLEMENTATION 1"
   ]
  },
  {
   "cell_type": "code",
   "execution_count": 6,
   "outputs": [
    {
     "data": {
      "text/plain": "True"
     },
     "execution_count": 6,
     "metadata": {},
     "output_type": "execute_result"
    }
   ],
   "source": [
    "def bisect_search(L, e):\n",
    "    if not L:               # O(1) Constant\n",
    "        return False\n",
    "    elif len(L) == 1:       # O(1) Constant\n",
    "        return L[0] == e\n",
    "    else:\n",
    "        half = len(L)//2    # O(1) Constant\n",
    "        if L[half] > e:\n",
    "            return bisect_search(L[:half], e) # NOT Constant, L[:half] shallow copies second half\n",
    "        else:\n",
    "            return bisect_search(L[half:], e) # NOT Constant, L[half:] ...\n",
    "\n",
    "bisect_search([1,2,3,4,5,6], 3)\n",
    "\n",
    "#%"
   ],
   "metadata": {
    "collapsed": false,
    "pycharm": {
     "name": "#%%\n"
    }
   }
  },
  {
   "cell_type": "code",
   "execution_count": null,
   "outputs": [],
   "source": [],
   "metadata": {
    "collapsed": false,
    "pycharm": {
     "name": "#%%\n"
    }
   }
  }
 ],
 "metadata": {
  "kernelspec": {
   "display_name": "Python 3",
   "language": "python",
   "name": "python3"
  },
  "language_info": {
   "codemirror_mode": {
    "name": "ipython",
    "version": 2
   },
   "file_extension": ".py",
   "mimetype": "text/x-python",
   "name": "python",
   "nbconvert_exporter": "python",
   "pygments_lexer": "ipython2",
   "version": "2.7.6"
  }
 },
 "nbformat": 4,
 "nbformat_minor": 0
}