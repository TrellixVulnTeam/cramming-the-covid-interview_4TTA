{
 "cells": [
  {
   "cell_type": "code",
   "execution_count": 2,
   "metadata": {
    "collapsed": true,
    "pycharm": {
     "name": "#%%\n"
    }
   },
   "outputs": [],
   "source": [
    "#https://youtu.be/C1lhuz6pZC0?t=1322\n",
    "class Food(object):\n",
    "    def __init__(self, n, v, w):\n",
    "        self.name = n\n",
    "        self.value = v\n",
    "        self.calories = w\n",
    "\n",
    "    def get_value(self):\n",
    "        return self.value\n",
    "\n",
    "    def get_cost(self):\n",
    "        return self.calories\n",
    "\n",
    "    def density(self):\n",
    "        return self.get_value()/self.get_cost()\n",
    "\n",
    "    def __str__(self):\n",
    "        return self.name + ': <' + str(self.value)\\\n",
    "        + ', ' + str(self.calories) + '>'"
   ]
  },
  {
   "cell_type": "code",
   "execution_count": 4,
   "outputs": [],
   "source": [
    "def build_menu(names, values, calories):\n",
    "    \"\"\"names, values, calories lists of same length.\n",
    "    name a list of strings\n",
    "    values and calories lists of numbers\n",
    "    returns list of Foods\"\"\"\n",
    "    menu = []\n",
    "    for i in range(len(values)):\n",
    "        menu.append(Food(names[i], values[i], calories[i]))\n",
    "    return menu"
   ],
   "metadata": {
    "collapsed": false,
    "pycharm": {
     "name": "#%%\n"
    }
   }
  },
  {
   "cell_type": "code",
   "execution_count": 6,
   "outputs": [],
   "source": [
    "def greedy(items, max_cost, key_function):\n",
    "    \"\"\"\n",
    "    Assumes items a list, max_cost >= 0\n",
    "    key_function maps elements of items to numbers\n",
    "    \"\"\"\n",
    "    items_copy = sorted(items, key = key_function, reverse=True) # Python uses Timsort O(n log n)\n",
    "    result = []\n",
    "    total_value, total_cost = 0.0, 0.0\n",
    "\n",
    "    for i in range(len(items_copy)):\n",
    "        if (total_cost+items_copy[i].get_cost()) <= max_cost:\n",
    "            result.append(items_copy[i])\n",
    "            total_cost += items_copy[i].get_cost()\n",
    "            total_value += items_copy[i].get_value()\n",
    "\n",
    "    return result, total_value"
   ],
   "metadata": {
    "collapsed": false,
    "pycharm": {
     "name": "#%%\n"
    }
   }
  },
  {
   "cell_type": "code",
   "execution_count": 7,
   "outputs": [],
   "source": [
    "def test_greedy(items, constraint, key_fn):\n",
    "    taken, val = greedy(items, constraint, key_fn)\n",
    "    print('Total value of items taken=', val)\n",
    "    for item in taken:\n",
    "        print('   ', item)\n"
   ],
   "metadata": {
    "collapsed": false,
    "pycharm": {
     "name": "#%%\n"
    }
   }
  },
  {
   "cell_type": "code",
   "execution_count": 10,
   "outputs": [
    {
     "name": "stdout",
     "output_type": "stream",
     "text": [
      "Use greedy by value to allocate 800 calories\n"
     ]
    },
    {
     "ename": "NameError",
     "evalue": "name 'foods' is not defined",
     "output_type": "error",
     "traceback": [
      "\u001B[0;31m---------------------------------------------------------------------------\u001B[0m",
      "\u001B[0;31mNameError\u001B[0m                                 Traceback (most recent call last)",
      "\u001B[0;32m<ipython-input-10-337a20373e93>\u001B[0m in \u001B[0;36m<module>\u001B[0;34m\u001B[0m\n\u001B[1;32m      6\u001B[0m                 lambda x: 1/Food.get_cost(x))\n\u001B[1;32m      7\u001B[0m     \u001B[0mtest_greedy\u001B[0m\u001B[0;34m(\u001B[0m\u001B[0mfoods\u001B[0m\u001B[0;34m,\u001B[0m \u001B[0mmax_units\u001B[0m\u001B[0;34m,\u001B[0m \u001B[0mFood\u001B[0m\u001B[0;34m.\u001B[0m\u001B[0mdensity\u001B[0m\u001B[0;34m)\u001B[0m\u001B[0;34m\u001B[0m\u001B[0;34m\u001B[0m\u001B[0m\n\u001B[0;32m----> 8\u001B[0;31m \u001B[0mtest_greedys\u001B[0m\u001B[0;34m(\u001B[0m\u001B[0;36m800\u001B[0m\u001B[0;34m)\u001B[0m\u001B[0;34m\u001B[0m\u001B[0;34m\u001B[0m\u001B[0m\n\u001B[0m",
      "\u001B[0;32m<ipython-input-10-337a20373e93>\u001B[0m in \u001B[0;36mtest_greedys\u001B[0;34m(max_units)\u001B[0m\n\u001B[1;32m      2\u001B[0m     \u001B[0mprint\u001B[0m\u001B[0;34m(\u001B[0m\u001B[0;34m'Use greedy by value to allocate'\u001B[0m\u001B[0;34m,\u001B[0m \u001B[0mmax_units\u001B[0m\u001B[0;34m,\u001B[0m \u001B[0;34m'calories'\u001B[0m\u001B[0;34m)\u001B[0m\u001B[0;34m\u001B[0m\u001B[0;34m\u001B[0m\u001B[0m\n\u001B[1;32m      3\u001B[0m \u001B[0;34m\u001B[0m\u001B[0m\n\u001B[0;32m----> 4\u001B[0;31m     \u001B[0mtest_greedy\u001B[0m\u001B[0;34m(\u001B[0m\u001B[0mfoods\u001B[0m\u001B[0;34m,\u001B[0m \u001B[0mmax_units\u001B[0m\u001B[0;34m,\u001B[0m \u001B[0mFood\u001B[0m\u001B[0;34m.\u001B[0m\u001B[0mget_value\u001B[0m\u001B[0;34m)\u001B[0m\u001B[0;34m\u001B[0m\u001B[0;34m\u001B[0m\u001B[0m\n\u001B[0m\u001B[1;32m      5\u001B[0m     test_greedy(foods, max_units,\n\u001B[1;32m      6\u001B[0m                 lambda x: 1/Food.get_cost(x))\n",
      "\u001B[0;31mNameError\u001B[0m: name 'foods' is not defined"
     ]
    }
   ],
   "source": [
    "def test_greedys(foods, max_units):\n",
    "    print('Use greedy by value to allocate', max_units, 'calories')\n",
    "\n",
    "    test_greedy(foods, max_units, Food.get_value)\n",
    "    test_greedy(foods, max_units,\n",
    "                lambda x: 1/Food.get_cost(x))\n",
    "    test_greedy(foods, max_units, Food.density)\n",
    "test_greedys(800)"
   ],
   "metadata": {
    "collapsed": false,
    "pycharm": {
     "name": "#%%\n"
    }
   }
  },
  {
   "cell_type": "code",
   "execution_count": null,
   "outputs": [],
   "source": [
    "names = ['wine', 'beer', 'pizza', 'burger', 'fries', 'cola', 'apple', 'donut', 'cake']\n",
    "values = [89,90,95,100,90,79, 50,10]\n"
   ],
   "metadata": {
    "collapsed": false,
    "pycharm": {
     "name": "#%%\n"
    }
   }
  }
 ],
 "metadata": {
  "kernelspec": {
   "display_name": "Python 3",
   "language": "python",
   "name": "python3"
  },
  "language_info": {
   "codemirror_mode": {
    "name": "ipython",
    "version": 2
   },
   "file_extension": ".py",
   "mimetype": "text/x-python",
   "name": "python",
   "nbconvert_exporter": "python",
   "pygments_lexer": "ipython2",
   "version": "2.7.6"
  }
 },
 "nbformat": 4,
 "nbformat_minor": 0
}